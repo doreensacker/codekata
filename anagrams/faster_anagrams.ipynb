{
 "cells": [
  {
   "cell_type": "code",
   "execution_count": 16,
   "metadata": {},
   "outputs": [],
   "source": [
    "from collections import Counter\n",
    "# from tqdm import tqdm_notebook as tqdm\n",
    "# import pandas as pd\n",
    "import itertools"
   ]
  },
  {
   "cell_type": "code",
   "execution_count": 4,
   "metadata": {},
   "outputs": [],
   "source": [
    "words = []\n",
    "with open(\"wordlist.txt\", encoding=\"latin-1\") as FileObj:\n",
    "    for lines in FileObj:\n",
    "        words.append(lines.strip())"
   ]
  },
  {
   "cell_type": "code",
   "execution_count": 5,
   "metadata": {},
   "outputs": [],
   "source": [
    "# df_words = pd.DataFrame()\n",
    "# df_words[\"counter_word\"] = [Counter(next_word) for next_word in tqdm(words)]\n",
    "# df_words[\"words\"] = words\n",
    "# words_group = df_words.groupby(\"counter_word\")"
   ]
  },
  {
   "cell_type": "code",
   "execution_count": 6,
   "metadata": {},
   "outputs": [],
   "source": [
    "# def get_anagrams_to_word_groups(word, words):\n",
    "#     counter_word = Counter(word)\n",
    "#     return [group for group in words_group if group==counter_word]\n"
   ]
  },
  {
   "cell_type": "code",
   "execution_count": 10,
   "metadata": {},
   "outputs": [],
   "source": [
    "\n"
   ]
  },
  {
   "cell_type": "code",
   "execution_count": 30,
   "metadata": {},
   "outputs": [
    {
     "name": "stdout",
     "output_type": "stream",
     "text": [
      "CPU times: user 3 µs, sys: 0 ns, total: 3 µs\n",
      "Wall time: 5.96 µs\n"
     ]
    }
   ],
   "source": [
    "%time\n",
    "words = []\n",
    "with open(\"wordlist.txt\", encoding=\"latin-1\") as FileObj:\n",
    "    for lines in FileObj:\n",
    "        words.append(lines.strip())\n",
    "\n",
    "def get_anagrams_to_word(word, words):\n",
    "    counter_word = Counter(word)\n",
    "    return [next_word for next_word in words if(Counter(next_word)==counter_word)]\n",
    "\n",
    "def get_anagrams(list_of_words):\n",
    "    pos_anagrams = [get_anagrams_to_word(word, list_of_words) for word in list_of_words]\n",
    "    all_anagrams = [anagram for anagram in pos_anagrams if(len(anagram) > 1)]\n",
    "    #deduplicate\n",
    "    all_anagrams.sort()    \n",
    "    return list(all_anagrams for all_anagrams,_ in itertools.groupby(all_anagrams))\n",
    "\n",
    "anagrams = get_anagrams(words[:10])\n",
    "\n",
    "with open(\"anagrams_list_test.txt\", \"w\") as f:\n",
    "    for items in anagrams:\n",
    "        f.write(\"%s\\n\" % \" \".join(i for i in items))"
   ]
  },
  {
   "cell_type": "code",
   "execution_count": 31,
   "metadata": {},
   "outputs": [
    {
     "data": {
      "text/plain": [
       "[]"
      ]
     },
     "execution_count": 31,
     "metadata": {},
     "output_type": "execute_result"
    }
   ],
   "source": [
    "anagrams"
   ]
  },
  {
   "cell_type": "code",
   "execution_count": 33,
   "metadata": {},
   "outputs": [
    {
     "data": {
      "text/plain": [
       "[['dog', 'god'], ['rat', 'tar']]"
      ]
     },
     "execution_count": 33,
     "metadata": {},
     "output_type": "execute_result"
    }
   ],
   "source": [
    "get_anagrams(['dog', 'god', 'rat', 'tar', 'test'])"
   ]
  },
  {
   "cell_type": "code",
   "execution_count": null,
   "metadata": {},
   "outputs": [],
   "source": []
  }
 ],
 "metadata": {
  "kernelspec": {
   "display_name": "Python 3",
   "language": "python",
   "name": "python3"
  },
  "language_info": {
   "codemirror_mode": {
    "name": "ipython",
    "version": 3
   },
   "file_extension": ".py",
   "mimetype": "text/x-python",
   "name": "python",
   "nbconvert_exporter": "python",
   "pygments_lexer": "ipython3",
   "version": "3.7.4"
  }
 },
 "nbformat": 4,
 "nbformat_minor": 2
}
