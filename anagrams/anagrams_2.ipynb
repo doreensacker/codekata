{
 "cells": [
  {
   "cell_type": "code",
   "execution_count": 31,
   "metadata": {},
   "outputs": [],
   "source": [
    "import itertools"
   ]
  },
  {
   "cell_type": "code",
   "execution_count": 32,
   "metadata": {},
   "outputs": [],
   "source": [
    "words = []\n",
    "with open(\"wordlist.txt\", encoding=\"latin-1\") as FileObj:\n",
    "    for lines in FileObj:\n",
    "        words.append(lines.strip())"
   ]
  },
  {
   "cell_type": "code",
   "execution_count": 33,
   "metadata": {},
   "outputs": [],
   "source": [
    "def get_anagrams_to_word_2(word, words):\n",
    "    anagrams = []\n",
    "    for alt in words:\n",
    "        if sorted(word) == sorted(alt):\n",
    "            anagrams.append(alt)\n",
    "    return anagrams"
   ]
  },
  {
   "cell_type": "code",
   "execution_count": 26,
   "metadata": {},
   "outputs": [],
   "source": [
    "def get_list_of_anagrams_2(words):\n",
    "    all_anagrams = []\n",
    "    for word in words:\n",
    "        anagrams = get_anagrams_to_word_2(word, words)\n",
    "        if (len(anagrams) > 1):\n",
    "            all_anagrams.append(anagrams)\n",
    "    all_anagrams.sort()    \n",
    "    return list(all_anagrams for all_anagrams,_ in itertools.groupby(all_anagrams))"
   ]
  },
  {
   "cell_type": "code",
   "execution_count": 30,
   "metadata": {},
   "outputs": [
    {
     "data": {
      "text/plain": [
       "[['god', 'dog'], ['rats', 'arts', 'star']]"
      ]
     },
     "execution_count": 30,
     "metadata": {},
     "output_type": "execute_result"
    }
   ],
   "source": [
    "list_of_anagrams = get_list_of_anagrams_2(words)"
   ]
  },
  {
   "cell_type": "code",
   "execution_count": null,
   "metadata": {},
   "outputs": [],
   "source": [
    "with open(\"anagrams_list_v3.txt\", \"w\") as f:\n",
    "    for items in list_of_anagrams:\n",
    "        f.write(\"%s\\n\" % \" \".join(i for i in items))"
   ]
  },
  {
   "cell_type": "code",
   "execution_count": null,
   "metadata": {},
   "outputs": [],
   "source": []
  }
 ],
 "metadata": {
  "kernelspec": {
   "display_name": "Python 3",
   "language": "python",
   "name": "python3"
  },
  "language_info": {
   "codemirror_mode": {
    "name": "ipython",
    "version": 3
   },
   "file_extension": ".py",
   "mimetype": "text/x-python",
   "name": "python",
   "nbconvert_exporter": "python",
   "pygments_lexer": "ipython3",
   "version": "3.7.4"
  }
 },
 "nbformat": 4,
 "nbformat_minor": 2
}
