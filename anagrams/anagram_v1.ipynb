{
 "cells": [
  {
   "cell_type": "code",
   "execution_count": 1,
   "metadata": {},
   "outputs": [],
   "source": []
  },
  {
   "cell_type": "code",
   "execution_count": 3,
   "metadata": {},
   "outputs": [],
   "source": [
    "from collections import Counter, defaultdict\n",
    "import itertools\n",
    "\n",
    "words = []\n",
    "with open(\"wordlist.txt\", encoding=\"latin-1\") as FileObj:\n",
    "    for lines in FileObj:\n",
    "        words.append(lines.strip())\n",
    "\n",
    "def get_anagrams_to_word(word, words):\n",
    "    anagrams = []\n",
    "    counter_word = Counter(word)\n",
    "    for next_word in words:\n",
    "        if Counter(next_word) == counter_word:\n",
    "            anagrams.append(next_word)\n",
    "    return anagrams\n",
    "\n",
    "\n",
    "def get_list_of_anagrams(words):\n",
    "    all_anagrams = []\n",
    "    for word in words:\n",
    "        anagrams = get_anagrams_to_word(word, words)\n",
    "        if (len(anagrams) > 1):\n",
    "            all_anagrams.append(anagrams)\n",
    "    all_anagrams.sort()    \n",
    "    return list(all_anagrams for all_anagrams,_ in itertools.groupby(all_anagrams))\n",
    "\n",
    "list_of_anagrams = get_list_of_anagrams(words[:100])\n",
    "\n",
    "with open(\"anagrams_list.txt\", \"w\") as f:\n",
    "    for items in list_of_anagrams:\n",
    "        f.write(\"%s\\n\" % \" \".join(i for i in items))"
   ]
  },
  {
   "cell_type": "code",
   "execution_count": 4,
   "metadata": {},
   "outputs": [
    {
     "data": {
      "text/plain": [
       "[['AAM', 'AMA'], ['ACT', 'ATC']]"
      ]
     },
     "execution_count": 4,
     "metadata": {},
     "output_type": "execute_result"
    }
   ],
   "source": [
    "list_of_anagrams"
   ]
  },
  {
   "cell_type": "code",
   "execution_count": null,
   "metadata": {},
   "outputs": [],
   "source": []
  },
  {
   "cell_type": "code",
   "execution_count": null,
   "metadata": {},
   "outputs": [],
   "source": []
  }
 ],
 "metadata": {
  "kernelspec": {
   "display_name": "Python 3",
   "language": "python",
   "name": "python3"
  },
  "language_info": {
   "codemirror_mode": {
    "name": "ipython",
    "version": 3
   },
   "file_extension": ".py",
   "mimetype": "text/x-python",
   "name": "python",
   "nbconvert_exporter": "python",
   "pygments_lexer": "ipython3",
   "version": "3.7.4"
  }
 },
 "nbformat": 4,
 "nbformat_minor": 2
}
