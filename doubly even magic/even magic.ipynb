{
 "cells": [
  {
   "cell_type": "code",
   "execution_count": 2,
   "metadata": {},
   "outputs": [
    {
     "data": {
      "text/plain": [
       "[[1, 2, 3, 4, 5, 6, 7, 8],\n",
       " [9, 10, 11, 12, 13, 14, 15, 16],\n",
       " [17, 18, 19, 20, 21, 22, 23, 24],\n",
       " [25, 26, 27, 28, 29, 30, 31, 32],\n",
       " [33, 34, 35, 36, 37, 38, 39, 40],\n",
       " [41, 42, 43, 44, 45, 46, 47, 48],\n",
       " [49, 50, 51, 52, 53, 54, 55, 56],\n",
       " [57, 58, 59, 60, 61, 62, 63, 64]]"
      ]
     },
     "execution_count": 2,
     "metadata": {},
     "output_type": "execute_result"
    }
   ],
   "source": [
    "n=8\n",
    "lst = [x+1 for x in range(n*n)]\n",
    "[lst[i:i + n] for i in range(0, len(lst), n)]"
   ]
  },
  {
   "cell_type": "code",
   "execution_count": 3,
   "metadata": {},
   "outputs": [],
   "source": [
    "def even_magic(n): \n",
    "#   Fill an array with the numbers 1 to n2 in succession\n",
    "    lst = [x+1 for x in range(n*n)]\n",
    "    arr = [lst[i:i + n] for i in range(0, len(lst), n)]\n",
    "    \n",
    "#   Then, for each 4 by 4 subarray, replace the entries on the blue and red diagonals by n2+1-aij.\n",
    "\n",
    "    n4 = int(n/4)\n",
    "    \n",
    "    for i in range(0,n4): \n",
    "        for j in range(0,n4): \n",
    "            arr[i][j] = (n*n + 1) - arr[i][j]; \n",
    "\n",
    "    # Top right corner \n",
    "    for i in range(0,n4): \n",
    "        for j in range(3 * (n4),n): \n",
    "            arr[i][j] = (n*n + 1) - arr[i][j]; \n",
    "  \n",
    "    # Bottom Left corner \n",
    "    for i in range(3 * (n4),n): \n",
    "        for j in range(0,n4): \n",
    "            arr[i][j] = (n*n + 1) - arr[i][j]; \n",
    "      \n",
    "    # Bottom Right corner \n",
    "    for i in range(3 * (n4),n): \n",
    "        for j in range(3 * (n4),n): \n",
    "            arr[i][j] = (n*n + 1) - arr[i][j]; \n",
    "              \n",
    "    # Centre of matrix,order (n/2)*(n/2) \n",
    "    for i in range(n4,3 * (n4)): \n",
    "        for j in range(n4,3 * (n4)): \n",
    "            arr[i][j] = (n*n + 1) - arr[i][j];\n",
    "    return arr"
   ]
  },
  {
   "cell_type": "code",
   "execution_count": 4,
   "metadata": {},
   "outputs": [
    {
     "data": {
      "text/plain": [
       "[[64, 63, 3, 4, 5, 6, 58, 57],\n",
       " [56, 55, 11, 12, 13, 14, 50, 49],\n",
       " [17, 18, 46, 45, 44, 43, 23, 24],\n",
       " [25, 26, 38, 37, 36, 35, 31, 32],\n",
       " [33, 34, 30, 29, 28, 27, 39, 40],\n",
       " [41, 42, 22, 21, 20, 19, 47, 48],\n",
       " [16, 15, 51, 52, 53, 54, 10, 9],\n",
       " [8, 7, 59, 60, 61, 62, 2, 1]]"
      ]
     },
     "execution_count": 4,
     "metadata": {},
     "output_type": "execute_result"
    }
   ],
   "source": [
    "n = 8\n",
    "even_magic(n)"
   ]
  },
  {
   "cell_type": "code",
   "execution_count": null,
   "metadata": {},
   "outputs": [],
   "source": []
  }
 ],
 "metadata": {
  "kernelspec": {
   "display_name": "Python 3",
   "language": "python",
   "name": "python3"
  },
  "language_info": {
   "codemirror_mode": {
    "name": "ipython",
    "version": 3
   },
   "file_extension": ".py",
   "mimetype": "text/x-python",
   "name": "python",
   "nbconvert_exporter": "python",
   "pygments_lexer": "ipython3",
   "version": "3.7.4"
  }
 },
 "nbformat": 4,
 "nbformat_minor": 2
}
