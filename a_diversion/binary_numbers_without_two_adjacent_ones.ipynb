{
 "cells": [
  {
   "cell_type": "code",
   "execution_count": 2,
   "metadata": {},
   "outputs": [],
   "source": [
    "def get_number_of_binarys_without_two_adjacent_ones(digits):\n",
    "    \n",
    "    list_of_binarys = set()\n",
    "\n",
    "    def generate_binary_without_two_adjacent_ones(bin_num, index, digits):\n",
    "        if index == digits:\n",
    "            list_of_binarys.add(bin_num)\n",
    "        elif bin_num[-1] == \"0\":\n",
    "            generate_binary_without_two_adjacent_ones(bin_num + \"0\", index + 1, digits)\n",
    "            generate_binary_without_two_adjacent_ones(bin_num + \"1\", index + 1, digits)\n",
    "        else:\n",
    "            generate_binary_without_two_adjacent_ones(bin_num + \"0\", index + 1, digits)\n",
    "            \n",
    "    generate_binary_without_two_adjacent_ones(\"0\", 1, digits)\n",
    "    generate_binary_without_two_adjacent_ones(\"1\", 1, digits)\n",
    "    return len(list_of_binarys)"
   ]
  },
  {
   "cell_type": "code",
   "execution_count": 8,
   "metadata": {},
   "outputs": [],
   "source": [
    "digits = 6"
   ]
  },
  {
   "cell_type": "code",
   "execution_count": 9,
   "metadata": {},
   "outputs": [
    {
     "data": {
      "text/plain": [
       "21"
      ]
     },
     "execution_count": 9,
     "metadata": {},
     "output_type": "execute_result"
    }
   ],
   "source": [
    "get_number_of_binarys_without_two_adjacent_ones(digits)"
   ]
  },
  {
   "cell_type": "code",
   "execution_count": null,
   "metadata": {},
   "outputs": [],
   "source": []
  }
 ],
 "metadata": {
  "kernelspec": {
   "display_name": "Python 3",
   "language": "python",
   "name": "python3"
  },
  "language_info": {
   "codemirror_mode": {
    "name": "ipython",
    "version": 3
   },
   "file_extension": ".py",
   "mimetype": "text/x-python",
   "name": "python",
   "nbconvert_exporter": "python",
   "pygments_lexer": "ipython3",
   "version": "3.7.4"
  }
 },
 "nbformat": 4,
 "nbformat_minor": 2
}
