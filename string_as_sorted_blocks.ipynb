{
 "cells": [
  {
   "cell_type": "code",
   "execution_count": 54,
   "metadata": {},
   "outputs": [
    {
     "data": {
      "text/plain": [
       "['A', 'B', 'x', 'z']"
      ]
     },
     "execution_count": 54,
     "metadata": {},
     "output_type": "execute_result"
    }
   ],
   "source": [
    "sorted(['x', 'z', 'A', 'B'], key=str)"
   ]
  },
  {
   "cell_type": "code",
   "execution_count": 63,
   "metadata": {},
   "outputs": [],
   "source": [
    "def flatten(L):\n",
    "    if len(L) == 1:\n",
    "        result = L\n",
    "    else:\n",
    "        result = [L[0]] + flatten(L[1:][0])\n",
    "    return result\n",
    "\n",
    "def get_unique_sorted_lists(l):\n",
    "    new_list = []\n",
    "    duplicate_list = []\n",
    "    unique_lists = []\n",
    "    for x in l:\n",
    "        if x not in new_list:\n",
    "            new_list.append(x)\n",
    "        else:\n",
    "            duplicate_list.append(x)  \n",
    "    if duplicate_list:\n",
    "        unique_lists = [new_list, get_unique_sorted_lists(duplicate_list)]\n",
    "    else:\n",
    "        unique_lists = [new_list]\n",
    "    return unique_lists\n",
    "\n",
    "def parse_list(l):\n",
    "    unique_lists = get_unique_sorted_lists(l)\n",
    "    flat_list = flatten(unique_lists)\n",
    "    return_values = []\n",
    "    for sublist in flat_list:\n",
    "        lowercase_chars = [c for c in sublist if c.islower()]\n",
    "        uppercase_chars = [c for c in sublist if c.isupper()]\n",
    "        digits_chars = [c for c in sublist if c.isdigit()]\n",
    "        \n",
    "        char_list = sorted(lowercase_chars) + sorted(uppercase_chars) + sorted(digits_chars)\n",
    "        return_values.append(\"\".join(char_list))\n",
    "    \n",
    "    return \"-\".join(return_values)\n",
    "\n",
    "def blocks(s):\n",
    "    sorted_list = parse_list(list(s))\n",
    "\n",
    "    return \"\".join([sorted_list])"
   ]
  },
  {
   "cell_type": "code",
   "execution_count": 64,
   "metadata": {},
   "outputs": [
    {
     "data": {
      "text/plain": [
       "'xzAB12'"
      ]
     },
     "execution_count": 64,
     "metadata": {},
     "output_type": "execute_result"
    }
   ],
   "source": [
    "blocks(\"21AxBz\")"
   ]
  },
  {
   "cell_type": "code",
   "execution_count": 62,
   "metadata": {},
   "outputs": [
    {
     "data": {
      "text/plain": [
       "['2', '1', 'A', 'x', 'B', 'z']"
      ]
     },
     "execution_count": 62,
     "metadata": {},
     "output_type": "execute_result"
    }
   ],
   "source": [
    "list(\"21AxBz\")"
   ]
  },
  {
   "cell_type": "code",
   "execution_count": 21,
   "metadata": {
    "scrolled": true
   },
   "outputs": [
    {
     "data": {
      "text/plain": [
       "'1456ADIKQWadefgqsvw-156dfgsv-56dfs-56dfs-56dfs-56df-5d-d'"
      ]
     },
     "execution_count": 21,
     "metadata": {},
     "output_type": "execute_result"
    }
   ],
   "source": [
    "blocks(\"adefgqsvw-dfgsv-dfs-dfs-dfs-df-d-dADIKQW1456-156-56-56-56-56-5\")"
   ]
  },
  {
   "cell_type": "code",
   "execution_count": 26,
   "metadata": {},
   "outputs": [],
   "source": [
    "from collections import defaultdict"
   ]
  },
  {
   "cell_type": "code",
   "execution_count": null,
   "metadata": {},
   "outputs": [],
   "source": [
    "d"
   ]
  }
 ],
 "metadata": {
  "kernelspec": {
   "display_name": "Python 3",
   "language": "python",
   "name": "python3"
  },
  "language_info": {
   "codemirror_mode": {
    "name": "ipython",
    "version": 3
   },
   "file_extension": ".py",
   "mimetype": "text/x-python",
   "name": "python",
   "nbconvert_exporter": "python",
   "pygments_lexer": "ipython3",
   "version": "3.7.4"
  }
 },
 "nbformat": 4,
 "nbformat_minor": 2
}
