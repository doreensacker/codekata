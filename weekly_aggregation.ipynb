{
 "cells": [
  {
   "cell_type": "markdown",
   "metadata": {},
   "source": [
    "Given a list of timestamps in sequential order, return a list of lists grouped by week (7 days) using the first timestamp as the starting point.  \n",
    "\n",
    "Example:\n",
    "\n",
    "\n",
    "\n",
    "output = [\n",
    "    ['2019-01-01', '2019-01-02'], \n",
    "    ['2019-01-08'], \n",
    "    ['2019-02-01', '2019-02-02'],\n",
    "    ['2019-02-05'],\n",
    "]\n"
   ]
  },
  {
   "cell_type": "code",
   "execution_count": 1,
   "metadata": {},
   "outputs": [],
   "source": [
    "ts = [\n",
    "    '2019-01-01', \n",
    "    '2019-01-02',\n",
    "    '2019-01-08', \n",
    "    '2019-02-01', \n",
    "    '2019-02-02',\n",
    "    '2019-02-05',\n",
    "]"
   ]
  },
  {
   "cell_type": "code",
   "execution_count": 31,
   "metadata": {},
   "outputs": [],
   "source": [
    "from datetime import datetime\n",
    "import pandas as pd"
   ]
  },
  {
   "cell_type": "code",
   "execution_count": 63,
   "metadata": {},
   "outputs": [],
   "source": [
    "ts_datetime = [datetime.strptime(t, \"%Y-%m-%d\") for t in ts]"
   ]
  },
  {
   "cell_type": "code",
   "execution_count": 64,
   "metadata": {},
   "outputs": [
    {
     "data": {
      "text/plain": [
       "[datetime.datetime(2019, 1, 1, 0, 0),\n",
       " datetime.datetime(2019, 1, 2, 0, 0),\n",
       " datetime.datetime(2019, 1, 8, 0, 0),\n",
       " datetime.datetime(2019, 2, 1, 0, 0),\n",
       " datetime.datetime(2019, 2, 2, 0, 0),\n",
       " datetime.datetime(2019, 2, 5, 0, 0)]"
      ]
     },
     "execution_count": 64,
     "metadata": {},
     "output_type": "execute_result"
    }
   ],
   "source": [
    "ts_datetime"
   ]
  },
  {
   "cell_type": "code",
   "execution_count": 65,
   "metadata": {},
   "outputs": [],
   "source": [
    "weeks = [t.isocalendar()[1] for t in sorted(ts_datetime)]"
   ]
  },
  {
   "cell_type": "code",
   "execution_count": 66,
   "metadata": {},
   "outputs": [],
   "source": [
    "df = pd.DataFrame(data={\"ts\": ts_sorted, \"week\": weeks})"
   ]
  },
  {
   "cell_type": "code",
   "execution_count": 67,
   "metadata": {},
   "outputs": [],
   "source": [
    "ouput = []\n",
    "for name, values in df.groupby(\"week\"):\n",
    "    ouput.append(values.ts.tolist())"
   ]
  },
  {
   "cell_type": "code",
   "execution_count": 68,
   "metadata": {},
   "outputs": [
    {
     "data": {
      "text/plain": [
       "[['2019-01-01', '2019-01-02'],\n",
       " ['2019-01-08'],\n",
       " ['2019-02-01', '2019-02-02'],\n",
       " ['2019-02-05']]"
      ]
     },
     "execution_count": 68,
     "metadata": {},
     "output_type": "execute_result"
    }
   ],
   "source": [
    "ouput"
   ]
  },
  {
   "cell_type": "code",
   "execution_count": null,
   "metadata": {},
   "outputs": [],
   "source": []
  }
 ],
 "metadata": {
  "kernelspec": {
   "display_name": "Python 3",
   "language": "python",
   "name": "python3"
  },
  "language_info": {
   "codemirror_mode": {
    "name": "ipython",
    "version": 3
   },
   "file_extension": ".py",
   "mimetype": "text/x-python",
   "name": "python",
   "nbconvert_exporter": "python",
   "pygments_lexer": "ipython3",
   "version": "3.7.4"
  }
 },
 "nbformat": 4,
 "nbformat_minor": 2
}
