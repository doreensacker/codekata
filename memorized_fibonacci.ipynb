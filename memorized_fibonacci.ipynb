{
 "cells": [
  {
   "cell_type": "code",
   "execution_count": 15,
   "metadata": {},
   "outputs": [
    {
     "name": "stdout",
     "output_type": "stream",
     "text": [
      "1.63 ms ± 34.3 µs per loop (mean ± std. dev. of 7 runs, 1000 loops each)\n"
     ]
    }
   ],
   "source": [
    "%%timeit\n",
    "cache = {}\n",
    "def fibonacci(n):\n",
    "    if n in [0, 1]:\n",
    "        cache[n] = n\n",
    "        return n\n",
    "    else:\n",
    "        if n-1 in cache.keys():\n",
    "            n1 = cache[n-1]\n",
    "        else:\n",
    "            n1 = fibonacci(n-1)\n",
    "            cache[n-1] = n1\n",
    "        \n",
    "        if n-2 in cache.keys():\n",
    "            n2 = cache[n-2]\n",
    "        else:\n",
    "            n2 = fibonacci(n-2)\n",
    "            cache[n-2] = n2\n",
    "    return n1 + n2\n",
    "fibonacci(2500)"
   ]
  },
  {
   "cell_type": "code",
   "execution_count": 16,
   "metadata": {},
   "outputs": [
    {
     "name": "stdout",
     "output_type": "stream",
     "text": [
      "1.77 ms ± 7.66 µs per loop (mean ± std. dev. of 7 runs, 1000 loops each)\n"
     ]
    }
   ],
   "source": [
    "%%timeit\n",
    "def fibonacci(n):\n",
    "    cache = {}\n",
    "    def calculate_fibonacci(n):\n",
    "        if n in [0, 1]:\n",
    "            cache[n] = n\n",
    "            return n\n",
    "        else:\n",
    "            if n-1 in cache.keys():\n",
    "                n1 = cache[n-1]\n",
    "            else:\n",
    "                n1 = calculate_fibonacci(n-1)\n",
    "                cache[n-1] = n1\n",
    "            \n",
    "            if n-2 in cache.keys():\n",
    "                n2 = cache[n-2]\n",
    "            else:\n",
    "                n2 = calculate_fibonacci(n-2)\n",
    "                cache[n-2] = n2\n",
    "        return n1 + n2\n",
    "    return calculate_fibonacci(n)\n",
    "fibonacci(2500)"
   ]
  },
  {
   "cell_type": "code",
   "execution_count": 26,
   "metadata": {},
   "outputs": [
    {
     "name": "stdout",
     "output_type": "stream",
     "text": [
      "934 ns ± 20.4 ns per loop (mean ± std. dev. of 7 runs, 1000000 loops each)\n"
     ]
    }
   ],
   "source": [
    "%%timeit\n",
    "def calculate_fibonacci(n, cache={}):\n",
    "    if n in [0, 1]:\n",
    "        cache[n] = n\n",
    "        return n\n",
    "    else:\n",
    "        if n-1 in cache.keys():\n",
    "            n1 = cache[n-1]\n",
    "        else:\n",
    "            n1 = calculate_fibonacci(n-1)\n",
    "            cache[n-1] = n1\n",
    "\n",
    "        if n-2 in cache.keys():\n",
    "            n2 = cache[n-2]\n",
    "        else:\n",
    "            n2 = calculate_fibonacci(n-2)\n",
    "            cache[n-2] = n2\n",
    "    return n1 + n2\n",
    "fibonacci(2500)"
   ]
  },
  {
   "cell_type": "code",
   "execution_count": 24,
   "metadata": {},
   "outputs": [
    {
     "data": {
      "text/plain": [
       "5"
      ]
     },
     "execution_count": 24,
     "metadata": {},
     "output_type": "execute_result"
    }
   ],
   "source": [
    "calculate_fibonacci(5)"
   ]
  },
  {
   "cell_type": "code",
   "execution_count": 25,
   "metadata": {},
   "outputs": [
    {
     "data": {
      "text/plain": [
       "5"
      ]
     },
     "execution_count": 25,
     "metadata": {},
     "output_type": "execute_result"
    }
   ],
   "source": [
    "fibonacci(5)"
   ]
  },
  {
   "cell_type": "code",
   "execution_count": null,
   "metadata": {},
   "outputs": [],
   "source": []
  }
 ],
 "metadata": {
  "kernelspec": {
   "display_name": "Python 3",
   "language": "python",
   "name": "python3"
  },
  "language_info": {
   "codemirror_mode": {
    "name": "ipython",
    "version": 3
   },
   "file_extension": ".py",
   "mimetype": "text/x-python",
   "name": "python",
   "nbconvert_exporter": "python",
   "pygments_lexer": "ipython3",
   "version": "3.7.4"
  }
 },
 "nbformat": 4,
 "nbformat_minor": 2
}
