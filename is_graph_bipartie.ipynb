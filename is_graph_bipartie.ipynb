{
 "cells": [
  {
   "cell_type": "code",
   "execution_count": 77,
   "metadata": {},
   "outputs": [],
   "source": [
    "graph = [[1],[0,3],[3],[1,2]]"
   ]
  },
  {
   "cell_type": "code",
   "execution_count": 80,
   "metadata": {},
   "outputs": [],
   "source": [
    "def find_adjacent_nodes(x, graph):\n",
    "    adjacent_nodes = []\n",
    "    for edges in graph:\n",
    "        if x in edges:\n",
    "            adjacent_nodes.append([n for n in edges if n!=x])\n",
    "    adjacent_nodes_flat = [node for sublist in adjacent_nodes for node in sublist]\n",
    "    return list(set(adjacent_nodes_flat))\n",
    "\n",
    "\n",
    "\n",
    "def isBipartite(graph):\n",
    "    \"\"\"\n",
    "    :type graph: List[List[int]]\n",
    "    :rtype: bool\n",
    "    \"\"\"\n",
    "#     color_dict = {}\n",
    "#     all_nodes = [node for sublist in graph for node in sublist]\n",
    "\n",
    "#     for x in set(all_nodes):\n",
    "#         color_dict[x] = None\n",
    "\n",
    "    color_dict[all_nodes[0]] = \"red\"\n",
    "    adjacent_color = \"blue\"\n",
    "    print(\"all_nodes[0]\", all_nodes[0])\n",
    "\n",
    "    for index in all_nodes:\n",
    "        print(\"index\", index)\n",
    "        adjacent_nodes = find_adjacent_nodes(index, graph)\n",
    "        print(\"adjacent_nodes\", adjacent_nodes)\n",
    "        \n",
    "        for node in adjacent_nodes:\n",
    "            print(\"node\", node)\n",
    "            \n",
    "            if color_dict[node]:\n",
    "                print(\"color_dict[node]\" + color_dict[node])\n",
    "                if color_dict[node] != adjacent_color:\n",
    "                    return False\n",
    "            else:\n",
    "                color_dict[node] = adjacent_color\n",
    "                print(\"adjacent_color\" + adjacent_color)\n",
    "\n",
    "        if adjacent_color == \"red\":\n",
    "            adjacent_color = \"blue\"\n",
    "        else:\n",
    "            adjacent_color = \"red\"\n",
    "    return True"
   ]
  },
  {
   "cell_type": "code",
   "execution_count": 81,
   "metadata": {
    "scrolled": true
   },
   "outputs": [
    {
     "name": "stdout",
     "output_type": "stream",
     "text": [
      "all_nodes[0] 1\n",
      "index 1\n",
      "adjacent_nodes [2]\n",
      "node 2\n",
      "adjacent_colorblue\n",
      "index 0\n",
      "adjacent_nodes [3]\n",
      "node 3\n",
      "adjacent_colorred\n",
      "index 3\n",
      "adjacent_nodes [0]\n",
      "node 0\n",
      "adjacent_colorblue\n",
      "index 3\n",
      "adjacent_nodes [0]\n",
      "node 0\n",
      "color_dict[node]blue\n"
     ]
    },
    {
     "data": {
      "text/plain": [
       "False"
      ]
     },
     "execution_count": 81,
     "metadata": {},
     "output_type": "execute_result"
    }
   ],
   "source": [
    "isBipartite(graph)"
   ]
  },
  {
   "cell_type": "code",
   "execution_count": 142,
   "metadata": {},
   "outputs": [],
   "source": [
    "def assign_color(graph, index, adjacent_color, color_dict):\n",
    "    print(\"index\", index)\n",
    "    print(\"color_dict[index]\", color_dict[index])\n",
    "    adjacent_nodes = graph[index]\n",
    "    print(\"adjacent_nodes\", adjacent_nodes)\n",
    "\n",
    "    for node in adjacent_nodes:\n",
    "        print(\"node\", node)\n",
    "        if color_dict[node]:\n",
    "            print(\"color_dict[node]\", color_dict[node])\n",
    "            if color_dict[node] != adjacent_color:\n",
    "                return False\n",
    "        else:\n",
    "            color_dict[node] = adjacent_color\n",
    "            print(color_dict)\n",
    "\n",
    "def isBipartite(graph):\n",
    "    \"\"\"\n",
    "    :type graph: List[List[int]]\n",
    "    :rtype: bool\n",
    "    \"\"\"\n",
    "    \n",
    "    skip = {}\n",
    "    \n",
    "    color_dict = {}\n",
    "    for i in range(len(graph)):\n",
    "        color_dict[i] = None\n",
    "    \n",
    "    color_dict[0] = \"red\" \n",
    "    adjacent_color = \"blue\"\n",
    "    \n",
    "    for index in range(len(graph)):\n",
    "        if color_dict[index] == \"red\":\n",
    "            adjacent_color = \"blue\"\n",
    "        elif color_dict[index] == \"blue\":\n",
    "            adjacent_color = \"red\"\n",
    "        elif color_dict[index] == False:\n",
    "            skip[index] = graph[index]\n",
    "            continue\n",
    "            \n",
    "        if assign_color(graph, index, adjacent_color, color_dict)==False:\n",
    "            return False\n",
    "            \n",
    "    if len(skip) > 0:\n",
    "\n",
    "        for index in skip:\n",
    "            if color_dict[index] == \"red\":\n",
    "                adjacent_color = \"blue\"\n",
    "            elif color_dict[index] == \"blue\":\n",
    "                adjacent_color = \"red\"\n",
    "                \n",
    "            assign_color(graph, index, adjacent_color, color_dict)\n",
    "            \n",
    "    return True"
   ]
  },
  {
   "cell_type": "code",
   "execution_count": 143,
   "metadata": {},
   "outputs": [],
   "source": [
    "graph =[[3],[2,4],[1],[0,4],[1,3]]"
   ]
  },
  {
   "cell_type": "code",
   "execution_count": 144,
   "metadata": {
    "scrolled": false
   },
   "outputs": [
    {
     "name": "stdout",
     "output_type": "stream",
     "text": [
      "index 0\n",
      "color_dict[index] red\n",
      "adjacent_nodes [3]\n",
      "node 3\n",
      "{0: 'red', 1: None, 2: None, 3: 'blue', 4: None}\n",
      "index 1\n",
      "color_dict[index] None\n",
      "adjacent_nodes [2, 4]\n",
      "node 2\n",
      "{0: 'red', 1: None, 2: 'blue', 3: 'blue', 4: None}\n",
      "node 4\n",
      "{0: 'red', 1: None, 2: 'blue', 3: 'blue', 4: 'blue'}\n",
      "index 2\n",
      "color_dict[index] blue\n",
      "adjacent_nodes [1]\n",
      "node 1\n",
      "{0: 'red', 1: 'red', 2: 'blue', 3: 'blue', 4: 'blue'}\n",
      "index 3\n",
      "color_dict[index] blue\n",
      "adjacent_nodes [0, 4]\n",
      "node 0\n",
      "color_dict[node] red\n",
      "node 4\n",
      "color_dict[node] blue\n"
     ]
    },
    {
     "data": {
      "text/plain": [
       "False"
      ]
     },
     "execution_count": 144,
     "metadata": {},
     "output_type": "execute_result"
    }
   ],
   "source": [
    "isBipartite(graph)"
   ]
  },
  {
   "cell_type": "code",
   "execution_count": 122,
   "metadata": {},
   "outputs": [],
   "source": [
    "def isBipartite(graph):\n",
    "    \"\"\"\n",
    "    :type graph: List[List[int]]\n",
    "    :rtype: bool\n",
    "    \"\"\"\n",
    "    \n",
    "    color_dict = {}\n",
    "    for i in range(len(graph)):\n",
    "        color_dict[i] = None\n",
    "    \n",
    "    color_dict[0] = \"red\" \n",
    "    adjacent_color = \"blue\"\n",
    "    \n",
    "    for index in range(len(graph)):\n",
    "        if color_dict[index] == \"red\":\n",
    "            adjacent_color = \"blue\"\n",
    "        elif color_dict[index] == \"blue\":\n",
    "            adjacent_color = \"red\"\n",
    "            \n",
    "        adjacent_nodes = graph[index]\n",
    "        \n",
    "        for node in adjacent_nodes:\n",
    "            if color_dict[node]:\n",
    "                if color_dict[node] != adjacent_color:\n",
    "                    return False\n",
    "            else:\n",
    "                color_dict[node] = adjacent_color\n",
    "    return True"
   ]
  },
  {
   "cell_type": "code",
   "execution_count": 123,
   "metadata": {},
   "outputs": [
    {
     "data": {
      "text/plain": [
       "True"
      ]
     },
     "execution_count": 123,
     "metadata": {},
     "output_type": "execute_result"
    }
   ],
   "source": [
    "isBipartite(graph)"
   ]
  },
  {
   "cell_type": "code",
   "execution_count": null,
   "metadata": {},
   "outputs": [],
   "source": []
  }
 ],
 "metadata": {
  "kernelspec": {
   "display_name": "Python 3",
   "language": "python",
   "name": "python3"
  },
  "language_info": {
   "codemirror_mode": {
    "name": "ipython",
    "version": 3
   },
   "file_extension": ".py",
   "mimetype": "text/x-python",
   "name": "python",
   "nbconvert_exporter": "python",
   "pygments_lexer": "ipython3",
   "version": "3.7.4"
  }
 },
 "nbformat": 4,
 "nbformat_minor": 2
}
