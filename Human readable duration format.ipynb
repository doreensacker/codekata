{
 "cells": [
  {
   "cell_type": "code",
   "execution_count": 5,
   "metadata": {},
   "outputs": [
    {
     "data": {
      "text/plain": [
       "3"
      ]
     },
     "execution_count": 5,
     "metadata": {},
     "output_type": "execute_result"
    }
   ],
   "source": [
    "26 // 7"
   ]
  },
  {
   "cell_type": "code",
   "execution_count": 6,
   "metadata": {},
   "outputs": [
    {
     "data": {
      "text/plain": [
       "3.7142857142857144"
      ]
     },
     "execution_count": 6,
     "metadata": {},
     "output_type": "execute_result"
    }
   ],
   "source": [
    "26 / 7"
   ]
  },
  {
   "cell_type": "code",
   "execution_count": 7,
   "metadata": {},
   "outputs": [
    {
     "data": {
      "text/plain": [
       "5"
      ]
     },
     "execution_count": 7,
     "metadata": {},
     "output_type": "execute_result"
    }
   ],
   "source": [
    "26 % 7"
   ]
  },
  {
   "cell_type": "code",
   "execution_count": 90,
   "metadata": {},
   "outputs": [],
   "source": [
    "def get_time_str(found_times, t_key):\n",
    "    if found_times[t_key] > 1:\n",
    "        time_str = f\"{t_key}\" + \"s\"\n",
    "    else:\n",
    "        time_str = t_key\n",
    "    return time_str\n",
    "\n",
    "def format_duration(seconds):\n",
    "\n",
    "    time_dict = {\n",
    "        \"year\": 60 * 60 * 24 * 365,\n",
    "        \"day\": 60 * 60 * 24,\n",
    "        \"hour\": 60 * 60,\n",
    "        \"minute\": 60,\n",
    "        \"second\": 1\n",
    "    }\n",
    "    \n",
    "    if not seconds or seconds==0:\n",
    "        return \"now\"\n",
    "    \n",
    "    found_times = {}\n",
    "    for time_key in time_dict.keys():\n",
    "        time = time_dict[time_key]\n",
    "        \n",
    "        if (seconds / time) >= 1:\n",
    "            found_times[time_key] = (seconds // time)            \n",
    "            seconds = seconds % time\n",
    "\n",
    "    return_str = \"\"\n",
    "    time_str = \"\"\n",
    "    len_count = len(found_times)\n",
    "    for t_key in found_times.keys():\n",
    "        if len_count == 1:\n",
    "            return_str = return_str + str(found_times[t_key]) + \" \" + get_time_str(found_times, t_key)\n",
    "            \n",
    "        elif len_count == 2:                \n",
    "            return_str = return_str + str(found_times[t_key]) + \" \" + get_time_str(found_times, t_key) + \" and \"\n",
    "            len_count=len_count-1\n",
    "            \n",
    "        else:\n",
    "            return_str = return_str + str(found_times[t_key]) + \" \" + get_time_str(found_times, t_key) + \", \"\n",
    "            len_count=len_count-1\n",
    "            \n",
    "    return return_str"
   ]
  },
  {
   "cell_type": "code",
   "execution_count": null,
   "metadata": {},
   "outputs": [],
   "source": [
    "    #your code here\n",
    "#     time_dict = {\n",
    "#         \"year\": 31622400,\n",
    "#         \"day\": 86400,\n",
    "#         \"hour\": 3600,\n",
    "#         \"minute\": 60,\n",
    "#         \"second\": 1\n",
    "#     }"
   ]
  },
  {
   "cell_type": "code",
   "execution_count": 91,
   "metadata": {},
   "outputs": [
    {
     "data": {
      "text/plain": [
       "'1 second'"
      ]
     },
     "execution_count": 91,
     "metadata": {},
     "output_type": "execute_result"
    }
   ],
   "source": [
    "format_duration(1)"
   ]
  },
  {
   "cell_type": "code",
   "execution_count": 47,
   "metadata": {},
   "outputs": [
    {
     "data": {
      "text/plain": [
       "[67, 23, 44, 50]"
      ]
     },
     "execution_count": 47,
     "metadata": {},
     "output_type": "execute_result"
    }
   ],
   "source": [
    "t = [116340214, 67, 23, 44, 50]\n",
    "t.remove(116340214)\n",
    "t"
   ]
  },
  {
   "cell_type": "code",
   "execution_count": null,
   "metadata": {},
   "outputs": [],
   "source": [
    " \"1 hour, 1 minute and 2 seconds\""
   ]
  }
 ],
 "metadata": {
  "kernelspec": {
   "display_name": "Python 3",
   "language": "python",
   "name": "python3"
  },
  "language_info": {
   "codemirror_mode": {
    "name": "ipython",
    "version": 3
   },
   "file_extension": ".py",
   "mimetype": "text/x-python",
   "name": "python",
   "nbconvert_exporter": "python",
   "pygments_lexer": "ipython3",
   "version": "3.7.4"
  }
 },
 "nbformat": 4,
 "nbformat_minor": 2
}
